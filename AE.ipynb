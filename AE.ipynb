{
  "nbformat": 4,
  "nbformat_minor": 0,
  "metadata": {
    "colab": {
      "name": "AE.ipynb",
      "provenance": [],
      "collapsed_sections": [],
      "authorship_tag": "ABX9TyOhRokcZxdlJkLmf5KNoWu1",
      "include_colab_link": true
    },
    "kernelspec": {
      "name": "python3",
      "display_name": "Python 3"
    },
    "language_info": {
      "name": "python"
    }
  },
  "cells": [
    {
      "cell_type": "markdown",
      "metadata": {
        "id": "view-in-github",
        "colab_type": "text"
      },
      "source": [
        "<a href=\"https://colab.research.google.com/github/devyoungjin/VAE/blob/main/AE.ipynb\" target=\"_parent\"><img src=\"https://colab.research.google.com/assets/colab-badge.svg\" alt=\"Open In Colab\"/></a>"
      ]
    },
    {
      "cell_type": "code",
      "source": [
        "from tensorflow.keras import Model\n",
        "from tensorflow.keras.layers import Input, Conv2D, ReLU, BatchNormalization, Flatten, Dense\n",
        "from tensorflow.keras import backend as K"
      ],
      "metadata": {
        "id": "f8T_rOaEgZZC"
      },
      "execution_count": 8,
      "outputs": []
    },
    {
      "cell_type": "code",
      "execution_count": 11,
      "metadata": {
        "id": "y-ttaQxycodc"
      },
      "outputs": [],
      "source": [
        "class Autoencoder:\n",
        "  \"\"\"\n",
        "  Autoencoder represents a Deep Convolutional autoencoder architecture with mirrored encoder and decoder components.\n",
        "  \"\"\"\n",
        "  def __init__(self,\n",
        "               input_shape,\n",
        "               conv_filters,\n",
        "               conv_kernels,\n",
        "               conv_strides,\n",
        "               latent_space_dim):\n",
        "    \n",
        "    self.input_shape = input_shape # [28, 28, 1]\n",
        "    self.conv_filters = conv_filters # [2, 4, 8]\n",
        "    self.conv_kernels = conv_kernels # [3, 5, 3]\n",
        "    self.conv_strides = conv_strides # [1, 2, 2]\n",
        "    self.latent_space_dim = latent_space_dim # 2\n",
        "\n",
        "    self.encoder = None\n",
        "    self.decoder = None\n",
        "    self.mode = None\n",
        "\n",
        "    self._num_conv_layers = len(conv_filters)\n",
        "    self._shape_before_bottleneck = None\n",
        "\n",
        "    self._build()\n",
        "\n",
        "  def summary(self):\n",
        "    self.encoder.summary() \n",
        "\n",
        "  def _build(self):\n",
        "    self._build_encoder()\n",
        "    #self._build_dncoder()\n",
        "    #self._build_autoencoder()\n",
        "\n",
        "  def _build_encoder(self):\n",
        "    encoder_input = self._add_encoder_input()\n",
        "    conv_layers = self._add_conv_layers(encoder_input)\n",
        "    bottleneck = self._add_bottleneck(conv_layers)\n",
        "    self.encoder = Model(encoder_input, bottleneck, name=\"encoder\")\n",
        "\n",
        "  def _add_encoder_input(self):\n",
        "    return Input(shape=self.input_shape, name=\"encoder_input\")\n",
        "\n",
        "  def _add_conv_layers(self,encoder_input):\n",
        "    \"\"\"Creates all convolutionals blocks in encoder\"\"\"\n",
        "    x = encoder_input\n",
        "    for layer_index in range(self._num_conv_layers):\n",
        "      x = self._add_conv_layer(layer_index, x)\n",
        "    return x\n",
        "\n",
        "  def _add_conv_layer(self, layer_index, x):\n",
        "    \"\"\"Adds a convolutional block to a graph of layers, consisting of conv 2d + ReLU + batch normalization.\"\"\"\n",
        "    layer_number = layer_index + 1\n",
        "    conv_layer = Conv2D(\n",
        "        filters = self.conv_filters[layer_index],\n",
        "        kernel_size = self.conv_kernels[layer_index],\n",
        "        strides = self.conv_strides[layer_index],\n",
        "        padding = \"same\",\n",
        "        name= f\"encoder_conv_layer_{layer_number}\"\n",
        "    )\n",
        "\n",
        "    x = conv_layer(x)\n",
        "    x = ReLU(name=f\"encoder_relu_{layer_number}\")(x)\n",
        "    x = BatchNormalization(name=f\"encoder_bn_{layer_number}\")(x)\n",
        "\n",
        "    return x \n",
        "\n",
        "  def _add_bottleneck(self, x):\n",
        "    \"\"\" Flatten data and add bottleneck (Dense layer). \"\"\"\n",
        "    \n",
        "    self._shape_before_bottleneck = K.int_shape(x)[1:] #[2,7,7, 32] batchsize, width, height, number of channel 인데 batchsize는 관심없음\n",
        "    x = Flatten()(x)\n",
        "    x = Dense(self.latent_space_dim, name=\"encoder_output\")(x)\n",
        "    return x"
      ]
    },
    {
      "cell_type": "code",
      "source": [
        "if __name__ == \"__main__\":\n",
        "  autoencoder = Autoencoder(\n",
        "      input_shape = (28,28,1),\n",
        "      conv_filters = (32,64,64,64),\n",
        "      conv_kernels=(3,3,3,3),\n",
        "      conv_strides = (1,2,2,1),\n",
        "      latent_space_dim=2\n",
        "  )\n",
        "  autoencoder.summary()"
      ],
      "metadata": {
        "colab": {
          "base_uri": "https://localhost:8080/"
        },
        "id": "5BXnfcydgol2",
        "outputId": "dd39c0e6-26a3-4e33-9557-c92d00104014"
      },
      "execution_count": 12,
      "outputs": [
        {
          "output_type": "stream",
          "name": "stdout",
          "text": [
            "Model: \"encoder\"\n",
            "_________________________________________________________________\n",
            " Layer (type)                Output Shape              Param #   \n",
            "=================================================================\n",
            " encoder_input (InputLayer)  [(None, 28, 28, 1)]       0         \n",
            "                                                                 \n",
            " encoder_conv_layer_1 (Conv2  (None, 28, 28, 32)       320       \n",
            " D)                                                              \n",
            "                                                                 \n",
            " encoder_relu_1 (ReLU)       (None, 28, 28, 32)        0         \n",
            "                                                                 \n",
            " encoder_bn_1 (BatchNormaliz  (None, 28, 28, 32)       128       \n",
            " ation)                                                          \n",
            "                                                                 \n",
            " encoder_conv_layer_2 (Conv2  (None, 14, 14, 64)       18496     \n",
            " D)                                                              \n",
            "                                                                 \n",
            " encoder_relu_2 (ReLU)       (None, 14, 14, 64)        0         \n",
            "                                                                 \n",
            " encoder_bn_2 (BatchNormaliz  (None, 14, 14, 64)       256       \n",
            " ation)                                                          \n",
            "                                                                 \n",
            " encoder_conv_layer_3 (Conv2  (None, 7, 7, 64)         36928     \n",
            " D)                                                              \n",
            "                                                                 \n",
            " encoder_relu_3 (ReLU)       (None, 7, 7, 64)          0         \n",
            "                                                                 \n",
            " encoder_bn_3 (BatchNormaliz  (None, 7, 7, 64)         256       \n",
            " ation)                                                          \n",
            "                                                                 \n",
            " encoder_conv_layer_4 (Conv2  (None, 7, 7, 64)         36928     \n",
            " D)                                                              \n",
            "                                                                 \n",
            " encoder_relu_4 (ReLU)       (None, 7, 7, 64)          0         \n",
            "                                                                 \n",
            " encoder_bn_4 (BatchNormaliz  (None, 7, 7, 64)         256       \n",
            " ation)                                                          \n",
            "                                                                 \n",
            " flatten (Flatten)           (None, 3136)              0         \n",
            "                                                                 \n",
            " encoder_output (Dense)      (None, 2)                 6274      \n",
            "                                                                 \n",
            "=================================================================\n",
            "Total params: 99,842\n",
            "Trainable params: 99,394\n",
            "Non-trainable params: 448\n",
            "_________________________________________________________________\n"
          ]
        }
      ]
    },
    {
      "cell_type": "code",
      "source": [
        ""
      ],
      "metadata": {
        "id": "MROVxcAgm4qK"
      },
      "execution_count": null,
      "outputs": []
    }
  ]
}